{
  "nbformat": 4,
  "nbformat_minor": 0,
  "metadata": {
    "colab": {
      "provenance": [],
      "gpuType": "T4"
    },
    "kernelspec": {
      "name": "python3",
      "display_name": "Python 3"
    },
    "language_info": {
      "name": "python"
    },
    "accelerator": "GPU"
  },
  "cells": [
    {
      "cell_type": "markdown",
      "source": [
        "#**Voice Gender Recognition**"
      ],
      "metadata": {
        "id": "67bjSLVOAt-Y"
      }
    },
    {
      "cell_type": "markdown",
      "source": [
        "**M.Zohaib Afzaal  F22607027**\n",
        "\n",
        "**Arham Mahmood  F22607014**\n",
        "\n",
        "**Umar Aurangzeb   F22607034**\n"
      ],
      "metadata": {
        "id": "i_16lEpcA7om"
      }
    },
    {
      "cell_type": "code",
      "source": [
        "pip install librosa scikit-learn pandas numpy\n"
      ],
      "metadata": {
        "colab": {
          "base_uri": "https://localhost:8080/"
        },
        "id": "Mh7tm3nA4m64",
        "outputId": "36fa54c6-f510-43d9-e95a-3280d79e4dcd"
      },
      "execution_count": null,
      "outputs": [
        {
          "output_type": "stream",
          "name": "stdout",
          "text": [
            "Requirement already satisfied: librosa in /usr/local/lib/python3.11/dist-packages (0.11.0)\n",
            "Requirement already satisfied: scikit-learn in /usr/local/lib/python3.11/dist-packages (1.6.1)\n",
            "Requirement already satisfied: pandas in /usr/local/lib/python3.11/dist-packages (2.2.2)\n",
            "Requirement already satisfied: numpy in /usr/local/lib/python3.11/dist-packages (2.0.2)\n",
            "Requirement already satisfied: audioread>=2.1.9 in /usr/local/lib/python3.11/dist-packages (from librosa) (3.0.1)\n",
            "Requirement already satisfied: numba>=0.51.0 in /usr/local/lib/python3.11/dist-packages (from librosa) (0.60.0)\n",
            "Requirement already satisfied: scipy>=1.6.0 in /usr/local/lib/python3.11/dist-packages (from librosa) (1.15.3)\n",
            "Requirement already satisfied: joblib>=1.0 in /usr/local/lib/python3.11/dist-packages (from librosa) (1.5.0)\n",
            "Requirement already satisfied: decorator>=4.3.0 in /usr/local/lib/python3.11/dist-packages (from librosa) (4.4.2)\n",
            "Requirement already satisfied: soundfile>=0.12.1 in /usr/local/lib/python3.11/dist-packages (from librosa) (0.13.1)\n",
            "Requirement already satisfied: pooch>=1.1 in /usr/local/lib/python3.11/dist-packages (from librosa) (1.8.2)\n",
            "Requirement already satisfied: soxr>=0.3.2 in /usr/local/lib/python3.11/dist-packages (from librosa) (0.5.0.post1)\n",
            "Requirement already satisfied: typing_extensions>=4.1.1 in /usr/local/lib/python3.11/dist-packages (from librosa) (4.13.2)\n",
            "Requirement already satisfied: lazy_loader>=0.1 in /usr/local/lib/python3.11/dist-packages (from librosa) (0.4)\n",
            "Requirement already satisfied: msgpack>=1.0 in /usr/local/lib/python3.11/dist-packages (from librosa) (1.1.0)\n",
            "Requirement already satisfied: threadpoolctl>=3.1.0 in /usr/local/lib/python3.11/dist-packages (from scikit-learn) (3.6.0)\n",
            "Requirement already satisfied: python-dateutil>=2.8.2 in /usr/local/lib/python3.11/dist-packages (from pandas) (2.9.0.post0)\n",
            "Requirement already satisfied: pytz>=2020.1 in /usr/local/lib/python3.11/dist-packages (from pandas) (2025.2)\n",
            "Requirement already satisfied: tzdata>=2022.7 in /usr/local/lib/python3.11/dist-packages (from pandas) (2025.2)\n",
            "Requirement already satisfied: packaging in /usr/local/lib/python3.11/dist-packages (from lazy_loader>=0.1->librosa) (24.2)\n",
            "Requirement already satisfied: llvmlite<0.44,>=0.43.0dev0 in /usr/local/lib/python3.11/dist-packages (from numba>=0.51.0->librosa) (0.43.0)\n",
            "Requirement already satisfied: platformdirs>=2.5.0 in /usr/local/lib/python3.11/dist-packages (from pooch>=1.1->librosa) (4.3.8)\n",
            "Requirement already satisfied: requests>=2.19.0 in /usr/local/lib/python3.11/dist-packages (from pooch>=1.1->librosa) (2.32.3)\n",
            "Requirement already satisfied: six>=1.5 in /usr/local/lib/python3.11/dist-packages (from python-dateutil>=2.8.2->pandas) (1.17.0)\n",
            "Requirement already satisfied: cffi>=1.0 in /usr/local/lib/python3.11/dist-packages (from soundfile>=0.12.1->librosa) (1.17.1)\n",
            "Requirement already satisfied: pycparser in /usr/local/lib/python3.11/dist-packages (from cffi>=1.0->soundfile>=0.12.1->librosa) (2.22)\n",
            "Requirement already satisfied: charset-normalizer<4,>=2 in /usr/local/lib/python3.11/dist-packages (from requests>=2.19.0->pooch>=1.1->librosa) (3.4.2)\n",
            "Requirement already satisfied: idna<4,>=2.5 in /usr/local/lib/python3.11/dist-packages (from requests>=2.19.0->pooch>=1.1->librosa) (3.10)\n",
            "Requirement already satisfied: urllib3<3,>=1.21.1 in /usr/local/lib/python3.11/dist-packages (from requests>=2.19.0->pooch>=1.1->librosa) (2.4.0)\n",
            "Requirement already satisfied: certifi>=2017.4.17 in /usr/local/lib/python3.11/dist-packages (from requests>=2.19.0->pooch>=1.1->librosa) (2025.4.26)\n"
          ]
        }
      ]
    },
    {
      "cell_type": "code",
      "source": [
        "import pandas as pd\n",
        "import numpy as np\n",
        "import matplotlib.pyplot as plt\n",
        "import seaborn as sns\n",
        "from sklearn.model_selection import train_test_split\n",
        "from sklearn.preprocessing import StandardScaler, LabelEncoder\n",
        "import tensorflow as tf\n",
        "from tensorflow.keras.models import Sequential\n",
        "from tensorflow.keras.layers import Dense, Dropout"
      ],
      "metadata": {
        "id": "XymkQU3Q5F-h"
      },
      "execution_count": null,
      "outputs": []
    },
    {
      "cell_type": "code",
      "source": [
        "import kagglehub\n",
        "\n",
        "# Download latest version\n",
        "path = kagglehub.dataset_download(\"primaryobjects/voicegender\")\n",
        "\n",
        "print(\"Path to dataset files:\", path)"
      ],
      "metadata": {
        "colab": {
          "base_uri": "https://localhost:8080/"
        },
        "id": "PpR9OR1y6_ex",
        "outputId": "1b3995a9-35c7-4cf5-8e5c-a24d57683fc7"
      },
      "execution_count": null,
      "outputs": [
        {
          "output_type": "stream",
          "name": "stdout",
          "text": [
            "Path to dataset files: /kaggle/input/voicegender\n"
          ]
        }
      ]
    },
    {
      "cell_type": "code",
      "source": [
        "\n",
        "\n",
        "# Construct the full path to the CSV file\n",
        "csv_file_path = f\"{path}/voice.csv\"\n",
        "\n",
        "# Load the dataset\n",
        "df = pd.read_csv(csv_file_path)\n",
        "\n",
        "# Preview the first few rows\n",
        "print(\"First 5 rows of the dataset:\")\n",
        "print(df.head())\n",
        "\n",
        "# Get information about the dataset\n",
        "print(\"\\nDataset Info:\")\n",
        "df.info()\n",
        "\n",
        "# Check for missing values\n",
        "print(\"\\nMissing values per column:\")\n",
        "print(df.isnull().sum())\n",
        "\n",
        "# Get basic statistical summary\n",
        "print(\"\\nDataset Description:\")\n",
        "print(df.describe())\n",
        "\n",
        "# Check the distribution of the target variable 'label'\n",
        "print(\"\\nDistribution of the target variable 'label':\")\n",
        "print(df['label'].value_counts())"
      ],
      "metadata": {
        "colab": {
          "base_uri": "https://localhost:8080/"
        },
        "id": "0kixdN7L_YyK",
        "outputId": "f0fdab4a-1d8a-4cf9-9133-00abdaae997d"
      },
      "execution_count": null,
      "outputs": [
        {
          "output_type": "stream",
          "name": "stdout",
          "text": [
            "First 5 rows of the dataset:\n",
            "   meanfreq        sd    median       Q25       Q75       IQR       skew  \\\n",
            "0  0.059781  0.064241  0.032027  0.015071  0.090193  0.075122  12.863462   \n",
            "1  0.066009  0.067310  0.040229  0.019414  0.092666  0.073252  22.423285   \n",
            "2  0.077316  0.083829  0.036718  0.008701  0.131908  0.123207  30.757155   \n",
            "3  0.151228  0.072111  0.158011  0.096582  0.207955  0.111374   1.232831   \n",
            "4  0.135120  0.079146  0.124656  0.078720  0.206045  0.127325   1.101174   \n",
            "\n",
            "          kurt    sp.ent       sfm  ...  centroid   meanfun    minfun  \\\n",
            "0   274.402906  0.893369  0.491918  ...  0.059781  0.084279  0.015702   \n",
            "1   634.613855  0.892193  0.513724  ...  0.066009  0.107937  0.015826   \n",
            "2  1024.927705  0.846389  0.478905  ...  0.077316  0.098706  0.015656   \n",
            "3     4.177296  0.963322  0.727232  ...  0.151228  0.088965  0.017798   \n",
            "4     4.333713  0.971955  0.783568  ...  0.135120  0.106398  0.016931   \n",
            "\n",
            "     maxfun   meandom    mindom    maxdom   dfrange   modindx  label  \n",
            "0  0.275862  0.007812  0.007812  0.007812  0.000000  0.000000   male  \n",
            "1  0.250000  0.009014  0.007812  0.054688  0.046875  0.052632   male  \n",
            "2  0.271186  0.007990  0.007812  0.015625  0.007812  0.046512   male  \n",
            "3  0.250000  0.201497  0.007812  0.562500  0.554688  0.247119   male  \n",
            "4  0.266667  0.712812  0.007812  5.484375  5.476562  0.208274   male  \n",
            "\n",
            "[5 rows x 21 columns]\n",
            "\n",
            "Dataset Info:\n",
            "<class 'pandas.core.frame.DataFrame'>\n",
            "RangeIndex: 3168 entries, 0 to 3167\n",
            "Data columns (total 21 columns):\n",
            " #   Column    Non-Null Count  Dtype  \n",
            "---  ------    --------------  -----  \n",
            " 0   meanfreq  3168 non-null   float64\n",
            " 1   sd        3168 non-null   float64\n",
            " 2   median    3168 non-null   float64\n",
            " 3   Q25       3168 non-null   float64\n",
            " 4   Q75       3168 non-null   float64\n",
            " 5   IQR       3168 non-null   float64\n",
            " 6   skew      3168 non-null   float64\n",
            " 7   kurt      3168 non-null   float64\n",
            " 8   sp.ent    3168 non-null   float64\n",
            " 9   sfm       3168 non-null   float64\n",
            " 10  mode      3168 non-null   float64\n",
            " 11  centroid  3168 non-null   float64\n",
            " 12  meanfun   3168 non-null   float64\n",
            " 13  minfun    3168 non-null   float64\n",
            " 14  maxfun    3168 non-null   float64\n",
            " 15  meandom   3168 non-null   float64\n",
            " 16  mindom    3168 non-null   float64\n",
            " 17  maxdom    3168 non-null   float64\n",
            " 18  dfrange   3168 non-null   float64\n",
            " 19  modindx   3168 non-null   float64\n",
            " 20  label     3168 non-null   object \n",
            "dtypes: float64(20), object(1)\n",
            "memory usage: 519.9+ KB\n",
            "\n",
            "Missing values per column:\n",
            "meanfreq    0\n",
            "sd          0\n",
            "median      0\n",
            "Q25         0\n",
            "Q75         0\n",
            "IQR         0\n",
            "skew        0\n",
            "kurt        0\n",
            "sp.ent      0\n",
            "sfm         0\n",
            "mode        0\n",
            "centroid    0\n",
            "meanfun     0\n",
            "minfun      0\n",
            "maxfun      0\n",
            "meandom     0\n",
            "mindom      0\n",
            "maxdom      0\n",
            "dfrange     0\n",
            "modindx     0\n",
            "label       0\n",
            "dtype: int64\n",
            "\n",
            "Dataset Description:\n",
            "          meanfreq           sd       median          Q25          Q75  \\\n",
            "count  3168.000000  3168.000000  3168.000000  3168.000000  3168.000000   \n",
            "mean      0.180907     0.057126     0.185621     0.140456     0.224765   \n",
            "std       0.029918     0.016652     0.036360     0.048680     0.023639   \n",
            "min       0.039363     0.018363     0.010975     0.000229     0.042946   \n",
            "25%       0.163662     0.041954     0.169593     0.111087     0.208747   \n",
            "50%       0.184838     0.059155     0.190032     0.140286     0.225684   \n",
            "75%       0.199146     0.067020     0.210618     0.175939     0.243660   \n",
            "max       0.251124     0.115273     0.261224     0.247347     0.273469   \n",
            "\n",
            "               IQR         skew         kurt       sp.ent          sfm  \\\n",
            "count  3168.000000  3168.000000  3168.000000  3168.000000  3168.000000   \n",
            "mean      0.084309     3.140168    36.568461     0.895127     0.408216   \n",
            "std       0.042783     4.240529   134.928661     0.044980     0.177521   \n",
            "min       0.014558     0.141735     2.068455     0.738651     0.036876   \n",
            "25%       0.042560     1.649569     5.669547     0.861811     0.258041   \n",
            "50%       0.094280     2.197101     8.318463     0.901767     0.396335   \n",
            "75%       0.114175     2.931694    13.648905     0.928713     0.533676   \n",
            "max       0.252225    34.725453  1309.612887     0.981997     0.842936   \n",
            "\n",
            "              mode     centroid      meanfun       minfun       maxfun  \\\n",
            "count  3168.000000  3168.000000  3168.000000  3168.000000  3168.000000   \n",
            "mean      0.165282     0.180907     0.142807     0.036802     0.258842   \n",
            "std       0.077203     0.029918     0.032304     0.019220     0.030077   \n",
            "min       0.000000     0.039363     0.055565     0.009775     0.103093   \n",
            "25%       0.118016     0.163662     0.116998     0.018223     0.253968   \n",
            "50%       0.186599     0.184838     0.140519     0.046110     0.271186   \n",
            "75%       0.221104     0.199146     0.169581     0.047904     0.277457   \n",
            "max       0.280000     0.251124     0.237636     0.204082     0.279114   \n",
            "\n",
            "           meandom       mindom       maxdom      dfrange      modindx  \n",
            "count  3168.000000  3168.000000  3168.000000  3168.000000  3168.000000  \n",
            "mean      0.829211     0.052647     5.047277     4.994630     0.173752  \n",
            "std       0.525205     0.063299     3.521157     3.520039     0.119454  \n",
            "min       0.007812     0.004883     0.007812     0.000000     0.000000  \n",
            "25%       0.419828     0.007812     2.070312     2.044922     0.099766  \n",
            "50%       0.765795     0.023438     4.992188     4.945312     0.139357  \n",
            "75%       1.177166     0.070312     7.007812     6.992188     0.209183  \n",
            "max       2.957682     0.458984    21.867188    21.843750     0.932374  \n",
            "\n",
            "Distribution of the target variable 'label':\n",
            "label\n",
            "male      1584\n",
            "female    1584\n",
            "Name: count, dtype: int64\n"
          ]
        }
      ]
    },
    {
      "cell_type": "code",
      "source": [
        "\n",
        "\n",
        "# Use LabelEncoder to convert 'male' and 'female' to numerical labels\n",
        "label_encoder = LabelEncoder()\n",
        "df['label'] = label_encoder.fit_transform(df['label'])\n",
        "\n",
        "# Display the mapping (optional)\n",
        "print(\"\\nLabel encoding mapping:\")\n",
        "print(dict(zip(label_encoder.classes_, label_encoder.transform(label_encoder.classes_))))\n",
        "\n",
        "# Verify the change\n",
        "print(\"\\nFirst 5 rows with encoded labels:\")\n",
        "print(df.head())\n"
      ],
      "metadata": {
        "colab": {
          "base_uri": "https://localhost:8080/"
        },
        "id": "n9TGT8Ds_kaT",
        "outputId": "aed1eb63-ffe6-452f-f236-1e8baa9a3aa6"
      },
      "execution_count": null,
      "outputs": [
        {
          "output_type": "stream",
          "name": "stdout",
          "text": [
            "\n",
            "Label encoding mapping:\n",
            "{'female': np.int64(0), 'male': np.int64(1)}\n",
            "\n",
            "First 5 rows with encoded labels:\n",
            "   meanfreq        sd    median       Q25       Q75       IQR       skew  \\\n",
            "0  0.059781  0.064241  0.032027  0.015071  0.090193  0.075122  12.863462   \n",
            "1  0.066009  0.067310  0.040229  0.019414  0.092666  0.073252  22.423285   \n",
            "2  0.077316  0.083829  0.036718  0.008701  0.131908  0.123207  30.757155   \n",
            "3  0.151228  0.072111  0.158011  0.096582  0.207955  0.111374   1.232831   \n",
            "4  0.135120  0.079146  0.124656  0.078720  0.206045  0.127325   1.101174   \n",
            "\n",
            "          kurt    sp.ent       sfm  ...  centroid   meanfun    minfun  \\\n",
            "0   274.402906  0.893369  0.491918  ...  0.059781  0.084279  0.015702   \n",
            "1   634.613855  0.892193  0.513724  ...  0.066009  0.107937  0.015826   \n",
            "2  1024.927705  0.846389  0.478905  ...  0.077316  0.098706  0.015656   \n",
            "3     4.177296  0.963322  0.727232  ...  0.151228  0.088965  0.017798   \n",
            "4     4.333713  0.971955  0.783568  ...  0.135120  0.106398  0.016931   \n",
            "\n",
            "     maxfun   meandom    mindom    maxdom   dfrange   modindx  label  \n",
            "0  0.275862  0.007812  0.007812  0.007812  0.000000  0.000000      1  \n",
            "1  0.250000  0.009014  0.007812  0.054688  0.046875  0.052632      1  \n",
            "2  0.271186  0.007990  0.007812  0.015625  0.007812  0.046512      1  \n",
            "3  0.250000  0.201497  0.007812  0.562500  0.554688  0.247119      1  \n",
            "4  0.266667  0.712812  0.007812  5.484375  5.476562  0.208274      1  \n",
            "\n",
            "[5 rows x 21 columns]\n"
          ]
        }
      ]
    },
    {
      "cell_type": "code",
      "source": [
        "\n",
        "\n",
        "# Separate features (X) and target (y)\n",
        "X = df.drop('label', axis=1) # Features are all columns except 'label'\n",
        "y = df['label']             # Target is the 'label' column\n",
        "\n",
        "print(\"\\nFeatures (X) shape:\", X.shape)\n",
        "print(\"Target (y) shape:\", y.shape)\n",
        "\n",
        "# Preview the first few rows of features and target\n",
        "print(\"\\nFirst 5 rows of Features (X):\")\n",
        "print(X.head())\n",
        "print(\"\\nFirst 5 rows of Target (y):\")\n",
        "print(y.head())"
      ],
      "metadata": {
        "colab": {
          "base_uri": "https://localhost:8080/"
        },
        "id": "ZAjkbdRm_sgR",
        "outputId": "3a05181c-5cc5-4a03-baa7-eaf6e9ddfe64"
      },
      "execution_count": null,
      "outputs": [
        {
          "output_type": "stream",
          "name": "stdout",
          "text": [
            "\n",
            "Features (X) shape: (3168, 20)\n",
            "Target (y) shape: (3168,)\n",
            "\n",
            "First 5 rows of Features (X):\n",
            "   meanfreq        sd    median       Q25       Q75       IQR       skew  \\\n",
            "0  0.059781  0.064241  0.032027  0.015071  0.090193  0.075122  12.863462   \n",
            "1  0.066009  0.067310  0.040229  0.019414  0.092666  0.073252  22.423285   \n",
            "2  0.077316  0.083829  0.036718  0.008701  0.131908  0.123207  30.757155   \n",
            "3  0.151228  0.072111  0.158011  0.096582  0.207955  0.111374   1.232831   \n",
            "4  0.135120  0.079146  0.124656  0.078720  0.206045  0.127325   1.101174   \n",
            "\n",
            "          kurt    sp.ent       sfm      mode  centroid   meanfun    minfun  \\\n",
            "0   274.402906  0.893369  0.491918  0.000000  0.059781  0.084279  0.015702   \n",
            "1   634.613855  0.892193  0.513724  0.000000  0.066009  0.107937  0.015826   \n",
            "2  1024.927705  0.846389  0.478905  0.000000  0.077316  0.098706  0.015656   \n",
            "3     4.177296  0.963322  0.727232  0.083878  0.151228  0.088965  0.017798   \n",
            "4     4.333713  0.971955  0.783568  0.104261  0.135120  0.106398  0.016931   \n",
            "\n",
            "     maxfun   meandom    mindom    maxdom   dfrange   modindx  \n",
            "0  0.275862  0.007812  0.007812  0.007812  0.000000  0.000000  \n",
            "1  0.250000  0.009014  0.007812  0.054688  0.046875  0.052632  \n",
            "2  0.271186  0.007990  0.007812  0.015625  0.007812  0.046512  \n",
            "3  0.250000  0.201497  0.007812  0.562500  0.554688  0.247119  \n",
            "4  0.266667  0.712812  0.007812  5.484375  5.476562  0.208274  \n",
            "\n",
            "First 5 rows of Target (y):\n",
            "0    1\n",
            "1    1\n",
            "2    1\n",
            "3    1\n",
            "4    1\n",
            "Name: label, dtype: int64\n"
          ]
        }
      ]
    },
    {
      "cell_type": "code",
      "source": [
        "\n",
        "\n",
        "# Initialize StandardScaler\n",
        "scaler = StandardScaler()\n",
        "\n",
        "# Fit the scaler on the training data and transform both training and testing data\n",
        "X_scaled = scaler.fit_transform(X)\n",
        "\n",
        "# Convert the scaled features back to a DataFrame (optional, but good for inspection)\n",
        "X_scaled = pd.DataFrame(X_scaled, columns=X.columns)\n",
        "\n",
        "print(\"\\nScaled Features (X_scaled) shape:\", X_scaled.shape)\n",
        "print(\"\\nFirst 5 rows of Scaled Features (X_scaled):\")\n",
        "print(X_scaled.head())"
      ],
      "metadata": {
        "colab": {
          "base_uri": "https://localhost:8080/"
        },
        "id": "34AAM8Z7_0wm",
        "outputId": "b262fe32-7015-4d59-fa32-9a321dfb6027"
      },
      "execution_count": null,
      "outputs": [
        {
          "output_type": "stream",
          "name": "stdout",
          "text": [
            "\n",
            "Scaled Features (X_scaled) shape: (3168, 20)\n",
            "\n",
            "First 5 rows of Scaled Features (X_scaled):\n",
            "   meanfreq        sd    median       Q25       Q75       IQR      skew  \\\n",
            "0 -4.049248  0.427355 -4.224901 -2.576102 -5.693607 -0.214778  2.293306   \n",
            "1 -3.841053  0.611669 -3.999293 -2.486885 -5.588987 -0.258485  4.548056   \n",
            "2 -3.463066  1.603848 -4.095851 -2.706986 -3.928699  0.909326  6.513656   \n",
            "3 -0.992157  0.899998 -0.759454 -0.901418 -0.711205  0.632690 -0.449858   \n",
            "4 -1.530640  1.322561 -1.676948 -1.268395 -0.792029  1.005588 -0.480911   \n",
            "\n",
            "       kurt    sp.ent       sfm      mode  centroid   meanfun    minfun  \\\n",
            "0  1.762946 -0.039083  0.471575 -2.141210 -4.049248 -1.812038 -1.097998   \n",
            "1  4.433008 -0.065236  0.594431 -2.141210 -3.841053 -1.079594 -1.091533   \n",
            "2  7.326207 -1.083730  0.398261 -2.141210 -3.463066 -1.365368 -1.100397   \n",
            "3 -0.240099  1.516383  1.797340 -1.054576 -0.992157 -1.666966 -0.988934   \n",
            "4 -0.238940  1.708336  2.114740 -0.790514 -1.530640 -1.127233 -1.034015   \n",
            "\n",
            "     maxfun   meandom    mindom    maxdom   dfrange   modindx  \n",
            "0  0.565959 -1.564205 -0.708404 -1.431422 -1.419137 -1.454772  \n",
            "1 -0.294030 -1.561916 -0.708404 -1.418107 -1.405818 -1.014103  \n",
            "2  0.410480 -1.563866 -0.708404 -1.429203 -1.416917 -1.065344  \n",
            "3 -0.294030 -1.195367 -0.708404 -1.273867 -1.261532  0.614286  \n",
            "4  0.260185 -0.221660 -0.708404  0.124154  0.136933  0.289046  \n"
          ]
        }
      ]
    },
    {
      "cell_type": "code",
      "source": [
        "\n",
        "\n",
        "# Split the dataset into training and testing sets\n",
        "# stratify=y ensures that the train and test splits have the same proportion of target classes as the input dataset\n",
        "X_train, X_test, y_train, y_test = train_test_split(X_scaled, y, test_size=0.2, random_state=42, stratify=y)\n",
        "\n",
        "print(\"\\nX_train shape:\", X_train.shape)\n",
        "print(\"X_test shape:\", X_test.shape)\n",
        "print(\"y_train shape:\", y_train.shape)\n",
        "print(\"y_test shape:\", y_test.shape)\n",
        "\n",
        "# Define the model architecture\n",
        "model = Sequential([\n",
        "    Dense(128, activation='relu', input_shape=(X_train.shape[1],)), # Input layer with 128 neurons and ReLU activation\n",
        "    Dropout(0.5),                                               # Dropout layer to prevent overfitting\n",
        "    Dense(64, activation='relu'),                                 # Hidden layer with 64 neurons and ReLU activation\n",
        "    Dropout(0.5),                                               # Another Dropout layer\n",
        "    Dense(1, activation='sigmoid')                              # Output layer with 1 neuron and Sigmoid activation for binary classification\n",
        "])\n",
        "\n",
        "# Compile the model\n",
        "model.compile(optimizer='adam',                 # Adam optimizer is a good default choice\n",
        "              loss='binary_crossentropy',     # Binary crossentropy is suitable for binary classification\n",
        "              metrics=['accuracy'])           # We want to monitor accuracy during training\n",
        "\n",
        "# Print the model summary\n",
        "model.summary()"
      ],
      "metadata": {
        "colab": {
          "base_uri": "https://localhost:8080/",
          "height": 430
        },
        "id": "Au61Q3ci_9OP",
        "outputId": "60029739-43c8-4795-99e7-530206834670"
      },
      "execution_count": null,
      "outputs": [
        {
          "output_type": "stream",
          "name": "stdout",
          "text": [
            "\n",
            "X_train shape: (2534, 20)\n",
            "X_test shape: (634, 20)\n",
            "y_train shape: (2534,)\n",
            "y_test shape: (634,)\n"
          ]
        },
        {
          "output_type": "stream",
          "name": "stderr",
          "text": [
            "/usr/local/lib/python3.11/dist-packages/keras/src/layers/core/dense.py:87: UserWarning: Do not pass an `input_shape`/`input_dim` argument to a layer. When using Sequential models, prefer using an `Input(shape)` object as the first layer in the model instead.\n",
            "  super().__init__(activity_regularizer=activity_regularizer, **kwargs)\n"
          ]
        },
        {
          "output_type": "display_data",
          "data": {
            "text/plain": [
              "\u001b[1mModel: \"sequential\"\u001b[0m\n"
            ],
            "text/html": [
              "<pre style=\"white-space:pre;overflow-x:auto;line-height:normal;font-family:Menlo,'DejaVu Sans Mono',consolas,'Courier New',monospace\"><span style=\"font-weight: bold\">Model: \"sequential\"</span>\n",
              "</pre>\n"
            ]
          },
          "metadata": {}
        },
        {
          "output_type": "display_data",
          "data": {
            "text/plain": [
              "┏━━━━━━━━━━━━━━━━━━━━━━━━━━━━━━━━━┳━━━━━━━━━━━━━━━━━━━━━━━━┳━━━━━━━━━━━━━━━┓\n",
              "┃\u001b[1m \u001b[0m\u001b[1mLayer (type)                   \u001b[0m\u001b[1m \u001b[0m┃\u001b[1m \u001b[0m\u001b[1mOutput Shape          \u001b[0m\u001b[1m \u001b[0m┃\u001b[1m \u001b[0m\u001b[1m      Param #\u001b[0m\u001b[1m \u001b[0m┃\n",
              "┡━━━━━━━━━━━━━━━━━━━━━━━━━━━━━━━━━╇━━━━━━━━━━━━━━━━━━━━━━━━╇━━━━━━━━━━━━━━━┩\n",
              "│ dense (\u001b[38;5;33mDense\u001b[0m)                   │ (\u001b[38;5;45mNone\u001b[0m, \u001b[38;5;34m128\u001b[0m)            │         \u001b[38;5;34m2,688\u001b[0m │\n",
              "├─────────────────────────────────┼────────────────────────┼───────────────┤\n",
              "│ dropout (\u001b[38;5;33mDropout\u001b[0m)               │ (\u001b[38;5;45mNone\u001b[0m, \u001b[38;5;34m128\u001b[0m)            │             \u001b[38;5;34m0\u001b[0m │\n",
              "├─────────────────────────────────┼────────────────────────┼───────────────┤\n",
              "│ dense_1 (\u001b[38;5;33mDense\u001b[0m)                 │ (\u001b[38;5;45mNone\u001b[0m, \u001b[38;5;34m64\u001b[0m)             │         \u001b[38;5;34m8,256\u001b[0m │\n",
              "├─────────────────────────────────┼────────────────────────┼───────────────┤\n",
              "│ dropout_1 (\u001b[38;5;33mDropout\u001b[0m)             │ (\u001b[38;5;45mNone\u001b[0m, \u001b[38;5;34m64\u001b[0m)             │             \u001b[38;5;34m0\u001b[0m │\n",
              "├─────────────────────────────────┼────────────────────────┼───────────────┤\n",
              "│ dense_2 (\u001b[38;5;33mDense\u001b[0m)                 │ (\u001b[38;5;45mNone\u001b[0m, \u001b[38;5;34m1\u001b[0m)              │            \u001b[38;5;34m65\u001b[0m │\n",
              "└─────────────────────────────────┴────────────────────────┴───────────────┘\n"
            ],
            "text/html": [
              "<pre style=\"white-space:pre;overflow-x:auto;line-height:normal;font-family:Menlo,'DejaVu Sans Mono',consolas,'Courier New',monospace\">┏━━━━━━━━━━━━━━━━━━━━━━━━━━━━━━━━━┳━━━━━━━━━━━━━━━━━━━━━━━━┳━━━━━━━━━━━━━━━┓\n",
              "┃<span style=\"font-weight: bold\"> Layer (type)                    </span>┃<span style=\"font-weight: bold\"> Output Shape           </span>┃<span style=\"font-weight: bold\">       Param # </span>┃\n",
              "┡━━━━━━━━━━━━━━━━━━━━━━━━━━━━━━━━━╇━━━━━━━━━━━━━━━━━━━━━━━━╇━━━━━━━━━━━━━━━┩\n",
              "│ dense (<span style=\"color: #0087ff; text-decoration-color: #0087ff\">Dense</span>)                   │ (<span style=\"color: #00d7ff; text-decoration-color: #00d7ff\">None</span>, <span style=\"color: #00af00; text-decoration-color: #00af00\">128</span>)            │         <span style=\"color: #00af00; text-decoration-color: #00af00\">2,688</span> │\n",
              "├─────────────────────────────────┼────────────────────────┼───────────────┤\n",
              "│ dropout (<span style=\"color: #0087ff; text-decoration-color: #0087ff\">Dropout</span>)               │ (<span style=\"color: #00d7ff; text-decoration-color: #00d7ff\">None</span>, <span style=\"color: #00af00; text-decoration-color: #00af00\">128</span>)            │             <span style=\"color: #00af00; text-decoration-color: #00af00\">0</span> │\n",
              "├─────────────────────────────────┼────────────────────────┼───────────────┤\n",
              "│ dense_1 (<span style=\"color: #0087ff; text-decoration-color: #0087ff\">Dense</span>)                 │ (<span style=\"color: #00d7ff; text-decoration-color: #00d7ff\">None</span>, <span style=\"color: #00af00; text-decoration-color: #00af00\">64</span>)             │         <span style=\"color: #00af00; text-decoration-color: #00af00\">8,256</span> │\n",
              "├─────────────────────────────────┼────────────────────────┼───────────────┤\n",
              "│ dropout_1 (<span style=\"color: #0087ff; text-decoration-color: #0087ff\">Dropout</span>)             │ (<span style=\"color: #00d7ff; text-decoration-color: #00d7ff\">None</span>, <span style=\"color: #00af00; text-decoration-color: #00af00\">64</span>)             │             <span style=\"color: #00af00; text-decoration-color: #00af00\">0</span> │\n",
              "├─────────────────────────────────┼────────────────────────┼───────────────┤\n",
              "│ dense_2 (<span style=\"color: #0087ff; text-decoration-color: #0087ff\">Dense</span>)                 │ (<span style=\"color: #00d7ff; text-decoration-color: #00d7ff\">None</span>, <span style=\"color: #00af00; text-decoration-color: #00af00\">1</span>)              │            <span style=\"color: #00af00; text-decoration-color: #00af00\">65</span> │\n",
              "└─────────────────────────────────┴────────────────────────┴───────────────┘\n",
              "</pre>\n"
            ]
          },
          "metadata": {}
        },
        {
          "output_type": "display_data",
          "data": {
            "text/plain": [
              "\u001b[1m Total params: \u001b[0m\u001b[38;5;34m11,009\u001b[0m (43.00 KB)\n"
            ],
            "text/html": [
              "<pre style=\"white-space:pre;overflow-x:auto;line-height:normal;font-family:Menlo,'DejaVu Sans Mono',consolas,'Courier New',monospace\"><span style=\"font-weight: bold\"> Total params: </span><span style=\"color: #00af00; text-decoration-color: #00af00\">11,009</span> (43.00 KB)\n",
              "</pre>\n"
            ]
          },
          "metadata": {}
        },
        {
          "output_type": "display_data",
          "data": {
            "text/plain": [
              "\u001b[1m Trainable params: \u001b[0m\u001b[38;5;34m11,009\u001b[0m (43.00 KB)\n"
            ],
            "text/html": [
              "<pre style=\"white-space:pre;overflow-x:auto;line-height:normal;font-family:Menlo,'DejaVu Sans Mono',consolas,'Courier New',monospace\"><span style=\"font-weight: bold\"> Trainable params: </span><span style=\"color: #00af00; text-decoration-color: #00af00\">11,009</span> (43.00 KB)\n",
              "</pre>\n"
            ]
          },
          "metadata": {}
        },
        {
          "output_type": "display_data",
          "data": {
            "text/plain": [
              "\u001b[1m Non-trainable params: \u001b[0m\u001b[38;5;34m0\u001b[0m (0.00 B)\n"
            ],
            "text/html": [
              "<pre style=\"white-space:pre;overflow-x:auto;line-height:normal;font-family:Menlo,'DejaVu Sans Mono',consolas,'Courier New',monospace\"><span style=\"font-weight: bold\"> Non-trainable params: </span><span style=\"color: #00af00; text-decoration-color: #00af00\">0</span> (0.00 B)\n",
              "</pre>\n"
            ]
          },
          "metadata": {}
        }
      ]
    },
    {
      "cell_type": "code",
      "source": [
        "\n",
        "\n",
        "# Train the model\n",
        "history = model.fit(X_train, y_train,\n",
        "                    epochs=100,         # Number of training epochs\n",
        "                    batch_size=32,      # Number of samples per gradient update\n",
        "                    validation_split=0.2, # Fraction of the training data to be used as validation data\n",
        "                    verbose=1)          # Display progress bar during training\n",
        "\n",
        "# Evaluate the model on the test set\n",
        "loss, accuracy = model.evaluate(X_test, y_test, verbose=0)\n",
        "\n",
        "print(f\"\\nTest Loss: {loss:.4f}\")\n",
        "print(f\"Test Accuracy: {accuracy:.4f}\")\n",
        "\n",
        "# Plot training and validation accuracy and loss\n",
        "history_dict = history.history\n",
        "\n",
        "acc = history_dict['accuracy']\n",
        "val_acc = history_dict['val_accuracy']\n",
        "loss = history_dict['loss']\n",
        "val_loss = history_dict['val_loss']\n",
        "\n",
        "epochs_range = range(len(acc))\n",
        "\n",
        "plt.figure(figsize=(12, 4))\n",
        "plt.subplot(1, 2, 1)\n",
        "plt.plot(epochs_range, acc, label='Training Accuracy')\n",
        "plt.plot(epochs_range, val_acc, label='Validation Accuracy')\n",
        "plt.title('Training and Validation Accuracy')\n",
        "plt.xlabel('Epochs')\n",
        "plt.ylabel('Accuracy')\n",
        "plt.legend()\n",
        "\n",
        "plt.subplot(1, 2, 2)\n",
        "plt.plot(epochs_range, loss, label='Training Loss')\n",
        "plt.plot(epochs_range, val_loss, label='Validation Loss')\n",
        "plt.title('Training and Validation Loss')\n",
        "plt.xlabel('Epochs')\n",
        "plt.ylabel('Loss')\n",
        "plt.legend()\n",
        "\n",
        "plt.show()"
      ],
      "metadata": {
        "colab": {
          "base_uri": "https://localhost:8080/",
          "height": 1000
        },
        "id": "xMlY7lASAEpM",
        "outputId": "834f4494-0f10-46e9-fd52-0b42f452ed90"
      },
      "execution_count": null,
      "outputs": [
        {
          "output_type": "stream",
          "name": "stdout",
          "text": [
            "Epoch 1/100\n",
            "\u001b[1m64/64\u001b[0m \u001b[32m━━━━━━━━━━━━━━━━━━━━\u001b[0m\u001b[37m\u001b[0m \u001b[1m5s\u001b[0m 37ms/step - accuracy: 0.6957 - loss: 0.5740 - val_accuracy: 0.9191 - val_loss: 0.2334\n",
            "Epoch 2/100\n",
            "\u001b[1m64/64\u001b[0m \u001b[32m━━━━━━━━━━━━━━━━━━━━\u001b[0m\u001b[37m\u001b[0m \u001b[1m0s\u001b[0m 3ms/step - accuracy: 0.9195 - loss: 0.2430 - val_accuracy: 0.9684 - val_loss: 0.1182\n",
            "Epoch 3/100\n",
            "\u001b[1m64/64\u001b[0m \u001b[32m━━━━━━━━━━━━━━━━━━━━\u001b[0m\u001b[37m\u001b[0m \u001b[1m0s\u001b[0m 3ms/step - accuracy: 0.9456 - loss: 0.1626 - val_accuracy: 0.9724 - val_loss: 0.0973\n",
            "Epoch 4/100\n",
            "\u001b[1m64/64\u001b[0m \u001b[32m━━━━━━━━━━━━━━━━━━━━\u001b[0m\u001b[37m\u001b[0m \u001b[1m0s\u001b[0m 4ms/step - accuracy: 0.9519 - loss: 0.1374 - val_accuracy: 0.9763 - val_loss: 0.0879\n",
            "Epoch 5/100\n",
            "\u001b[1m64/64\u001b[0m \u001b[32m━━━━━━━━━━━━━━━━━━━━\u001b[0m\u001b[37m\u001b[0m \u001b[1m0s\u001b[0m 4ms/step - accuracy: 0.9670 - loss: 0.1065 - val_accuracy: 0.9763 - val_loss: 0.0883\n",
            "Epoch 6/100\n",
            "\u001b[1m64/64\u001b[0m \u001b[32m━━━━━━━━━━━━━━━━━━━━\u001b[0m\u001b[37m\u001b[0m \u001b[1m0s\u001b[0m 3ms/step - accuracy: 0.9680 - loss: 0.0981 - val_accuracy: 0.9763 - val_loss: 0.0842\n",
            "Epoch 7/100\n",
            "\u001b[1m64/64\u001b[0m \u001b[32m━━━━━━━━━━━━━━━━━━━━\u001b[0m\u001b[37m\u001b[0m \u001b[1m0s\u001b[0m 3ms/step - accuracy: 0.9713 - loss: 0.0880 - val_accuracy: 0.9763 - val_loss: 0.0775\n",
            "Epoch 8/100\n",
            "\u001b[1m64/64\u001b[0m \u001b[32m━━━━━━━━━━━━━━━━━━━━\u001b[0m\u001b[37m\u001b[0m \u001b[1m0s\u001b[0m 4ms/step - accuracy: 0.9681 - loss: 0.0829 - val_accuracy: 0.9763 - val_loss: 0.0794\n",
            "Epoch 9/100\n",
            "\u001b[1m64/64\u001b[0m \u001b[32m━━━━━━━━━━━━━━━━━━━━\u001b[0m\u001b[37m\u001b[0m \u001b[1m0s\u001b[0m 5ms/step - accuracy: 0.9729 - loss: 0.0907 - val_accuracy: 0.9744 - val_loss: 0.0779\n",
            "Epoch 10/100\n",
            "\u001b[1m64/64\u001b[0m \u001b[32m━━━━━━━━━━━━━━━━━━━━\u001b[0m\u001b[37m\u001b[0m \u001b[1m0s\u001b[0m 6ms/step - accuracy: 0.9736 - loss: 0.0781 - val_accuracy: 0.9763 - val_loss: 0.0761\n",
            "Epoch 11/100\n",
            "\u001b[1m64/64\u001b[0m \u001b[32m━━━━━━━━━━━━━━━━━━━━\u001b[0m\u001b[37m\u001b[0m \u001b[1m0s\u001b[0m 5ms/step - accuracy: 0.9793 - loss: 0.0745 - val_accuracy: 0.9763 - val_loss: 0.0805\n",
            "Epoch 12/100\n",
            "\u001b[1m64/64\u001b[0m \u001b[32m━━━━━━━━━━━━━━━━━━━━\u001b[0m\u001b[37m\u001b[0m \u001b[1m1s\u001b[0m 7ms/step - accuracy: 0.9714 - loss: 0.0751 - val_accuracy: 0.9744 - val_loss: 0.0835\n",
            "Epoch 13/100\n",
            "\u001b[1m64/64\u001b[0m \u001b[32m━━━━━━━━━━━━━━━━━━━━\u001b[0m\u001b[37m\u001b[0m \u001b[1m0s\u001b[0m 3ms/step - accuracy: 0.9765 - loss: 0.0690 - val_accuracy: 0.9724 - val_loss: 0.0786\n",
            "Epoch 14/100\n",
            "\u001b[1m64/64\u001b[0m \u001b[32m━━━━━━━━━━━━━━━━━━━━\u001b[0m\u001b[37m\u001b[0m \u001b[1m0s\u001b[0m 4ms/step - accuracy: 0.9784 - loss: 0.0685 - val_accuracy: 0.9744 - val_loss: 0.0816\n",
            "Epoch 15/100\n",
            "\u001b[1m64/64\u001b[0m \u001b[32m━━━━━━━━━━━━━━━━━━━━\u001b[0m\u001b[37m\u001b[0m \u001b[1m0s\u001b[0m 4ms/step - accuracy: 0.9775 - loss: 0.0810 - val_accuracy: 0.9724 - val_loss: 0.0777\n",
            "Epoch 16/100\n",
            "\u001b[1m64/64\u001b[0m \u001b[32m━━━━━━━━━━━━━━━━━━━━\u001b[0m\u001b[37m\u001b[0m \u001b[1m0s\u001b[0m 4ms/step - accuracy: 0.9809 - loss: 0.0559 - val_accuracy: 0.9744 - val_loss: 0.0787\n",
            "Epoch 17/100\n",
            "\u001b[1m64/64\u001b[0m \u001b[32m━━━━━━━━━━━━━━━━━━━━\u001b[0m\u001b[37m\u001b[0m \u001b[1m0s\u001b[0m 4ms/step - accuracy: 0.9748 - loss: 0.0673 - val_accuracy: 0.9744 - val_loss: 0.0793\n",
            "Epoch 18/100\n",
            "\u001b[1m64/64\u001b[0m \u001b[32m━━━━━━━━━━━━━━━━━━━━\u001b[0m\u001b[37m\u001b[0m \u001b[1m0s\u001b[0m 4ms/step - accuracy: 0.9760 - loss: 0.0690 - val_accuracy: 0.9744 - val_loss: 0.0801\n",
            "Epoch 19/100\n",
            "\u001b[1m64/64\u001b[0m \u001b[32m━━━━━━━━━━━━━━━━━━━━\u001b[0m\u001b[37m\u001b[0m \u001b[1m0s\u001b[0m 3ms/step - accuracy: 0.9777 - loss: 0.0734 - val_accuracy: 0.9724 - val_loss: 0.0782\n",
            "Epoch 20/100\n",
            "\u001b[1m64/64\u001b[0m \u001b[32m━━━━━━━━━━━━━━━━━━━━\u001b[0m\u001b[37m\u001b[0m \u001b[1m0s\u001b[0m 4ms/step - accuracy: 0.9742 - loss: 0.0658 - val_accuracy: 0.9704 - val_loss: 0.0772\n",
            "Epoch 21/100\n",
            "\u001b[1m64/64\u001b[0m \u001b[32m━━━━━━━━━━━━━━━━━━━━\u001b[0m\u001b[37m\u001b[0m \u001b[1m0s\u001b[0m 4ms/step - accuracy: 0.9857 - loss: 0.0483 - val_accuracy: 0.9724 - val_loss: 0.0778\n",
            "Epoch 22/100\n",
            "\u001b[1m64/64\u001b[0m \u001b[32m━━━━━━━━━━━━━━━━━━━━\u001b[0m\u001b[37m\u001b[0m \u001b[1m0s\u001b[0m 4ms/step - accuracy: 0.9828 - loss: 0.0582 - val_accuracy: 0.9724 - val_loss: 0.0768\n",
            "Epoch 23/100\n",
            "\u001b[1m64/64\u001b[0m \u001b[32m━━━━━━━━━━━━━━━━━━━━\u001b[0m\u001b[37m\u001b[0m \u001b[1m0s\u001b[0m 3ms/step - accuracy: 0.9766 - loss: 0.0651 - val_accuracy: 0.9724 - val_loss: 0.0783\n",
            "Epoch 24/100\n",
            "\u001b[1m64/64\u001b[0m \u001b[32m━━━━━━━━━━━━━━━━━━━━\u001b[0m\u001b[37m\u001b[0m \u001b[1m0s\u001b[0m 4ms/step - accuracy: 0.9811 - loss: 0.0603 - val_accuracy: 0.9744 - val_loss: 0.0814\n",
            "Epoch 25/100\n",
            "\u001b[1m64/64\u001b[0m \u001b[32m━━━━━━━━━━━━━━━━━━━━\u001b[0m\u001b[37m\u001b[0m \u001b[1m0s\u001b[0m 4ms/step - accuracy: 0.9770 - loss: 0.0713 - val_accuracy: 0.9763 - val_loss: 0.0783\n",
            "Epoch 26/100\n",
            "\u001b[1m64/64\u001b[0m \u001b[32m━━━━━━━━━━━━━━━━━━━━\u001b[0m\u001b[37m\u001b[0m \u001b[1m0s\u001b[0m 4ms/step - accuracy: 0.9754 - loss: 0.0635 - val_accuracy: 0.9744 - val_loss: 0.0754\n",
            "Epoch 27/100\n",
            "\u001b[1m64/64\u001b[0m \u001b[32m━━━━━━━━━━━━━━━━━━━━\u001b[0m\u001b[37m\u001b[0m \u001b[1m0s\u001b[0m 3ms/step - accuracy: 0.9838 - loss: 0.0548 - val_accuracy: 0.9724 - val_loss: 0.0786\n",
            "Epoch 28/100\n",
            "\u001b[1m64/64\u001b[0m \u001b[32m━━━━━━━━━━━━━━━━━━━━\u001b[0m\u001b[37m\u001b[0m \u001b[1m0s\u001b[0m 4ms/step - accuracy: 0.9792 - loss: 0.0565 - val_accuracy: 0.9744 - val_loss: 0.0732\n",
            "Epoch 29/100\n",
            "\u001b[1m64/64\u001b[0m \u001b[32m━━━━━━━━━━━━━━━━━━━━\u001b[0m\u001b[37m\u001b[0m \u001b[1m0s\u001b[0m 3ms/step - accuracy: 0.9845 - loss: 0.0498 - val_accuracy: 0.9724 - val_loss: 0.0747\n",
            "Epoch 30/100\n",
            "\u001b[1m64/64\u001b[0m \u001b[32m━━━━━━━━━━━━━━━━━━━━\u001b[0m\u001b[37m\u001b[0m \u001b[1m0s\u001b[0m 4ms/step - accuracy: 0.9779 - loss: 0.0604 - val_accuracy: 0.9744 - val_loss: 0.0736\n",
            "Epoch 31/100\n",
            "\u001b[1m64/64\u001b[0m \u001b[32m━━━━━━━━━━━━━━━━━━━━\u001b[0m\u001b[37m\u001b[0m \u001b[1m0s\u001b[0m 4ms/step - accuracy: 0.9883 - loss: 0.0487 - val_accuracy: 0.9763 - val_loss: 0.0769\n",
            "Epoch 32/100\n",
            "\u001b[1m64/64\u001b[0m \u001b[32m━━━━━━━━━━━━━━━━━━━━\u001b[0m\u001b[37m\u001b[0m \u001b[1m0s\u001b[0m 3ms/step - accuracy: 0.9785 - loss: 0.0475 - val_accuracy: 0.9763 - val_loss: 0.0739\n",
            "Epoch 33/100\n",
            "\u001b[1m64/64\u001b[0m \u001b[32m━━━━━━━━━━━━━━━━━━━━\u001b[0m\u001b[37m\u001b[0m \u001b[1m0s\u001b[0m 4ms/step - accuracy: 0.9783 - loss: 0.0632 - val_accuracy: 0.9744 - val_loss: 0.0747\n",
            "Epoch 34/100\n",
            "\u001b[1m64/64\u001b[0m \u001b[32m━━━━━━━━━━━━━━━━━━━━\u001b[0m\u001b[37m\u001b[0m \u001b[1m0s\u001b[0m 4ms/step - accuracy: 0.9826 - loss: 0.0493 - val_accuracy: 0.9724 - val_loss: 0.0807\n",
            "Epoch 35/100\n",
            "\u001b[1m64/64\u001b[0m \u001b[32m━━━━━━━━━━━━━━━━━━━━\u001b[0m\u001b[37m\u001b[0m \u001b[1m0s\u001b[0m 4ms/step - accuracy: 0.9820 - loss: 0.0444 - val_accuracy: 0.9724 - val_loss: 0.0813\n",
            "Epoch 36/100\n",
            "\u001b[1m64/64\u001b[0m \u001b[32m━━━━━━━━━━━━━━━━━━━━\u001b[0m\u001b[37m\u001b[0m \u001b[1m0s\u001b[0m 3ms/step - accuracy: 0.9786 - loss: 0.0488 - val_accuracy: 0.9763 - val_loss: 0.0779\n",
            "Epoch 37/100\n",
            "\u001b[1m64/64\u001b[0m \u001b[32m━━━━━━━━━━━━━━━━━━━━\u001b[0m\u001b[37m\u001b[0m \u001b[1m0s\u001b[0m 3ms/step - accuracy: 0.9797 - loss: 0.0504 - val_accuracy: 0.9724 - val_loss: 0.0772\n",
            "Epoch 38/100\n",
            "\u001b[1m64/64\u001b[0m \u001b[32m━━━━━━━━━━━━━━━━━━━━\u001b[0m\u001b[37m\u001b[0m \u001b[1m0s\u001b[0m 4ms/step - accuracy: 0.9856 - loss: 0.0434 - val_accuracy: 0.9724 - val_loss: 0.0749\n",
            "Epoch 39/100\n",
            "\u001b[1m64/64\u001b[0m \u001b[32m━━━━━━━━━━━━━━━━━━━━\u001b[0m\u001b[37m\u001b[0m \u001b[1m0s\u001b[0m 4ms/step - accuracy: 0.9779 - loss: 0.0534 - val_accuracy: 0.9704 - val_loss: 0.0793\n",
            "Epoch 40/100\n",
            "\u001b[1m64/64\u001b[0m \u001b[32m━━━━━━━━━━━━━━━━━━━━\u001b[0m\u001b[37m\u001b[0m \u001b[1m0s\u001b[0m 4ms/step - accuracy: 0.9810 - loss: 0.0457 - val_accuracy: 0.9744 - val_loss: 0.0711\n",
            "Epoch 41/100\n",
            "\u001b[1m64/64\u001b[0m \u001b[32m━━━━━━━━━━━━━━━━━━━━\u001b[0m\u001b[37m\u001b[0m \u001b[1m0s\u001b[0m 3ms/step - accuracy: 0.9801 - loss: 0.0432 - val_accuracy: 0.9744 - val_loss: 0.0746\n",
            "Epoch 42/100\n",
            "\u001b[1m64/64\u001b[0m \u001b[32m━━━━━━━━━━━━━━━━━━━━\u001b[0m\u001b[37m\u001b[0m \u001b[1m0s\u001b[0m 4ms/step - accuracy: 0.9857 - loss: 0.0415 - val_accuracy: 0.9744 - val_loss: 0.0793\n",
            "Epoch 43/100\n",
            "\u001b[1m64/64\u001b[0m \u001b[32m━━━━━━━━━━━━━━━━━━━━\u001b[0m\u001b[37m\u001b[0m \u001b[1m0s\u001b[0m 4ms/step - accuracy: 0.9819 - loss: 0.0410 - val_accuracy: 0.9684 - val_loss: 0.0761\n",
            "Epoch 44/100\n",
            "\u001b[1m64/64\u001b[0m \u001b[32m━━━━━━━━━━━━━━━━━━━━\u001b[0m\u001b[37m\u001b[0m \u001b[1m0s\u001b[0m 4ms/step - accuracy: 0.9831 - loss: 0.0489 - val_accuracy: 0.9763 - val_loss: 0.0781\n",
            "Epoch 45/100\n",
            "\u001b[1m64/64\u001b[0m \u001b[32m━━━━━━━━━━━━━━━━━━━━\u001b[0m\u001b[37m\u001b[0m \u001b[1m0s\u001b[0m 4ms/step - accuracy: 0.9806 - loss: 0.0512 - val_accuracy: 0.9704 - val_loss: 0.0794\n",
            "Epoch 46/100\n",
            "\u001b[1m64/64\u001b[0m \u001b[32m━━━━━━━━━━━━━━━━━━━━\u001b[0m\u001b[37m\u001b[0m \u001b[1m0s\u001b[0m 4ms/step - accuracy: 0.9829 - loss: 0.0424 - val_accuracy: 0.9704 - val_loss: 0.0805\n",
            "Epoch 47/100\n",
            "\u001b[1m64/64\u001b[0m \u001b[32m━━━━━━━━━━━━━━━━━━━━\u001b[0m\u001b[37m\u001b[0m \u001b[1m0s\u001b[0m 3ms/step - accuracy: 0.9817 - loss: 0.0473 - val_accuracy: 0.9724 - val_loss: 0.0787\n",
            "Epoch 48/100\n",
            "\u001b[1m64/64\u001b[0m \u001b[32m━━━━━━━━━━━━━━━━━━━━\u001b[0m\u001b[37m\u001b[0m \u001b[1m0s\u001b[0m 5ms/step - accuracy: 0.9791 - loss: 0.0469 - val_accuracy: 0.9684 - val_loss: 0.0764\n",
            "Epoch 49/100\n",
            "\u001b[1m64/64\u001b[0m \u001b[32m━━━━━━━━━━━━━━━━━━━━\u001b[0m\u001b[37m\u001b[0m \u001b[1m0s\u001b[0m 5ms/step - accuracy: 0.9791 - loss: 0.0511 - val_accuracy: 0.9744 - val_loss: 0.0807\n",
            "Epoch 50/100\n",
            "\u001b[1m64/64\u001b[0m \u001b[32m━━━━━━━━━━━━━━━━━━━━\u001b[0m\u001b[37m\u001b[0m \u001b[1m1s\u001b[0m 6ms/step - accuracy: 0.9820 - loss: 0.0422 - val_accuracy: 0.9744 - val_loss: 0.0806\n",
            "Epoch 51/100\n",
            "\u001b[1m64/64\u001b[0m \u001b[32m━━━━━━━━━━━━━━━━━━━━\u001b[0m\u001b[37m\u001b[0m \u001b[1m0s\u001b[0m 6ms/step - accuracy: 0.9855 - loss: 0.0393 - val_accuracy: 0.9704 - val_loss: 0.0771\n",
            "Epoch 52/100\n",
            "\u001b[1m64/64\u001b[0m \u001b[32m━━━━━━━━━━━━━━━━━━━━\u001b[0m\u001b[37m\u001b[0m \u001b[1m0s\u001b[0m 4ms/step - accuracy: 0.9864 - loss: 0.0384 - val_accuracy: 0.9684 - val_loss: 0.0769\n",
            "Epoch 53/100\n",
            "\u001b[1m64/64\u001b[0m \u001b[32m━━━━━━━━━━━━━━━━━━━━\u001b[0m\u001b[37m\u001b[0m \u001b[1m0s\u001b[0m 3ms/step - accuracy: 0.9862 - loss: 0.0505 - val_accuracy: 0.9763 - val_loss: 0.0752\n",
            "Epoch 54/100\n",
            "\u001b[1m64/64\u001b[0m \u001b[32m━━━━━━━━━━━━━━━━━━━━\u001b[0m\u001b[37m\u001b[0m \u001b[1m0s\u001b[0m 4ms/step - accuracy: 0.9855 - loss: 0.0437 - val_accuracy: 0.9724 - val_loss: 0.0801\n",
            "Epoch 55/100\n",
            "\u001b[1m64/64\u001b[0m \u001b[32m━━━━━━━━━━━━━━━━━━━━\u001b[0m\u001b[37m\u001b[0m \u001b[1m0s\u001b[0m 4ms/step - accuracy: 0.9821 - loss: 0.0418 - val_accuracy: 0.9684 - val_loss: 0.0788\n",
            "Epoch 56/100\n",
            "\u001b[1m64/64\u001b[0m \u001b[32m━━━━━━━━━━━━━━━━━━━━\u001b[0m\u001b[37m\u001b[0m \u001b[1m0s\u001b[0m 4ms/step - accuracy: 0.9827 - loss: 0.0451 - val_accuracy: 0.9704 - val_loss: 0.0797\n",
            "Epoch 57/100\n",
            "\u001b[1m64/64\u001b[0m \u001b[32m━━━━━━━━━━━━━━━━━━━━\u001b[0m\u001b[37m\u001b[0m \u001b[1m0s\u001b[0m 3ms/step - accuracy: 0.9827 - loss: 0.0354 - val_accuracy: 0.9724 - val_loss: 0.0802\n",
            "Epoch 58/100\n",
            "\u001b[1m64/64\u001b[0m \u001b[32m━━━━━━━━━━━━━━━━━━━━\u001b[0m\u001b[37m\u001b[0m \u001b[1m0s\u001b[0m 4ms/step - accuracy: 0.9844 - loss: 0.0474 - val_accuracy: 0.9724 - val_loss: 0.0793\n",
            "Epoch 59/100\n",
            "\u001b[1m64/64\u001b[0m \u001b[32m━━━━━━━━━━━━━━━━━━━━\u001b[0m\u001b[37m\u001b[0m \u001b[1m0s\u001b[0m 3ms/step - accuracy: 0.9837 - loss: 0.0392 - val_accuracy: 0.9744 - val_loss: 0.0757\n",
            "Epoch 60/100\n",
            "\u001b[1m64/64\u001b[0m \u001b[32m━━━━━━━━━━━━━━━━━━━━\u001b[0m\u001b[37m\u001b[0m \u001b[1m0s\u001b[0m 3ms/step - accuracy: 0.9857 - loss: 0.0363 - val_accuracy: 0.9724 - val_loss: 0.0783\n",
            "Epoch 61/100\n",
            "\u001b[1m64/64\u001b[0m \u001b[32m━━━━━━━━━━━━━━━━━━━━\u001b[0m\u001b[37m\u001b[0m \u001b[1m0s\u001b[0m 4ms/step - accuracy: 0.9803 - loss: 0.0410 - val_accuracy: 0.9704 - val_loss: 0.0771\n",
            "Epoch 62/100\n",
            "\u001b[1m64/64\u001b[0m \u001b[32m━━━━━━━━━━━━━━━━━━━━\u001b[0m\u001b[37m\u001b[0m \u001b[1m0s\u001b[0m 3ms/step - accuracy: 0.9901 - loss: 0.0310 - val_accuracy: 0.9724 - val_loss: 0.0832\n",
            "Epoch 63/100\n",
            "\u001b[1m64/64\u001b[0m \u001b[32m━━━━━━━━━━━━━━━━━━━━\u001b[0m\u001b[37m\u001b[0m \u001b[1m0s\u001b[0m 3ms/step - accuracy: 0.9817 - loss: 0.0544 - val_accuracy: 0.9684 - val_loss: 0.0799\n",
            "Epoch 64/100\n",
            "\u001b[1m64/64\u001b[0m \u001b[32m━━━━━━━━━━━━━━━━━━━━\u001b[0m\u001b[37m\u001b[0m \u001b[1m0s\u001b[0m 4ms/step - accuracy: 0.9869 - loss: 0.0344 - val_accuracy: 0.9704 - val_loss: 0.0766\n",
            "Epoch 65/100\n",
            "\u001b[1m64/64\u001b[0m \u001b[32m━━━━━━━━━━━━━━━━━━━━\u001b[0m\u001b[37m\u001b[0m \u001b[1m0s\u001b[0m 4ms/step - accuracy: 0.9891 - loss: 0.0350 - val_accuracy: 0.9684 - val_loss: 0.0764\n",
            "Epoch 66/100\n",
            "\u001b[1m64/64\u001b[0m \u001b[32m━━━━━━━━━━━━━━━━━━━━\u001b[0m\u001b[37m\u001b[0m \u001b[1m0s\u001b[0m 4ms/step - accuracy: 0.9876 - loss: 0.0376 - val_accuracy: 0.9744 - val_loss: 0.0829\n",
            "Epoch 67/100\n",
            "\u001b[1m64/64\u001b[0m \u001b[32m━━━━━━━━━━━━━━━━━━━━\u001b[0m\u001b[37m\u001b[0m \u001b[1m0s\u001b[0m 4ms/step - accuracy: 0.9872 - loss: 0.0392 - val_accuracy: 0.9724 - val_loss: 0.0810\n",
            "Epoch 68/100\n",
            "\u001b[1m64/64\u001b[0m \u001b[32m━━━━━━━━━━━━━━━━━━━━\u001b[0m\u001b[37m\u001b[0m \u001b[1m0s\u001b[0m 4ms/step - accuracy: 0.9906 - loss: 0.0283 - val_accuracy: 0.9704 - val_loss: 0.0825\n",
            "Epoch 69/100\n",
            "\u001b[1m64/64\u001b[0m \u001b[32m━━━━━━━━━━━━━━━━━━━━\u001b[0m\u001b[37m\u001b[0m \u001b[1m0s\u001b[0m 4ms/step - accuracy: 0.9904 - loss: 0.0302 - val_accuracy: 0.9704 - val_loss: 0.0824\n",
            "Epoch 70/100\n",
            "\u001b[1m64/64\u001b[0m \u001b[32m━━━━━━━━━━━━━━━━━━━━\u001b[0m\u001b[37m\u001b[0m \u001b[1m0s\u001b[0m 4ms/step - accuracy: 0.9873 - loss: 0.0311 - val_accuracy: 0.9704 - val_loss: 0.0833\n",
            "Epoch 71/100\n",
            "\u001b[1m64/64\u001b[0m \u001b[32m━━━━━━━━━━━━━━━━━━━━\u001b[0m\u001b[37m\u001b[0m \u001b[1m0s\u001b[0m 3ms/step - accuracy: 0.9916 - loss: 0.0330 - val_accuracy: 0.9724 - val_loss: 0.0820\n",
            "Epoch 72/100\n",
            "\u001b[1m64/64\u001b[0m \u001b[32m━━━━━━━━━━━━━━━━━━━━\u001b[0m\u001b[37m\u001b[0m \u001b[1m0s\u001b[0m 4ms/step - accuracy: 0.9874 - loss: 0.0404 - val_accuracy: 0.9704 - val_loss: 0.0818\n",
            "Epoch 73/100\n",
            "\u001b[1m64/64\u001b[0m \u001b[32m━━━━━━━━━━━━━━━━━━━━\u001b[0m\u001b[37m\u001b[0m \u001b[1m0s\u001b[0m 4ms/step - accuracy: 0.9867 - loss: 0.0414 - val_accuracy: 0.9704 - val_loss: 0.0868\n",
            "Epoch 74/100\n",
            "\u001b[1m64/64\u001b[0m \u001b[32m━━━━━━━━━━━━━━━━━━━━\u001b[0m\u001b[37m\u001b[0m \u001b[1m0s\u001b[0m 4ms/step - accuracy: 0.9852 - loss: 0.0337 - val_accuracy: 0.9684 - val_loss: 0.0773\n",
            "Epoch 75/100\n",
            "\u001b[1m64/64\u001b[0m \u001b[32m━━━━━━━━━━━━━━━━━━━━\u001b[0m\u001b[37m\u001b[0m \u001b[1m0s\u001b[0m 3ms/step - accuracy: 0.9866 - loss: 0.0337 - val_accuracy: 0.9684 - val_loss: 0.0844\n",
            "Epoch 76/100\n",
            "\u001b[1m64/64\u001b[0m \u001b[32m━━━━━━━━━━━━━━━━━━━━\u001b[0m\u001b[37m\u001b[0m \u001b[1m0s\u001b[0m 3ms/step - accuracy: 0.9933 - loss: 0.0261 - val_accuracy: 0.9704 - val_loss: 0.0905\n",
            "Epoch 77/100\n",
            "\u001b[1m64/64\u001b[0m \u001b[32m━━━━━━━━━━━━━━━━━━━━\u001b[0m\u001b[37m\u001b[0m \u001b[1m0s\u001b[0m 4ms/step - accuracy: 0.9782 - loss: 0.0410 - val_accuracy: 0.9704 - val_loss: 0.0833\n",
            "Epoch 78/100\n",
            "\u001b[1m64/64\u001b[0m \u001b[32m━━━━━━━━━━━━━━━━━━━━\u001b[0m\u001b[37m\u001b[0m \u001b[1m0s\u001b[0m 3ms/step - accuracy: 0.9826 - loss: 0.0394 - val_accuracy: 0.9704 - val_loss: 0.0819\n",
            "Epoch 79/100\n",
            "\u001b[1m64/64\u001b[0m \u001b[32m━━━━━━━━━━━━━━━━━━━━\u001b[0m\u001b[37m\u001b[0m \u001b[1m0s\u001b[0m 4ms/step - accuracy: 0.9906 - loss: 0.0265 - val_accuracy: 0.9684 - val_loss: 0.0816\n",
            "Epoch 80/100\n",
            "\u001b[1m64/64\u001b[0m \u001b[32m━━━━━━━━━━━━━━━━━━━━\u001b[0m\u001b[37m\u001b[0m \u001b[1m0s\u001b[0m 4ms/step - accuracy: 0.9845 - loss: 0.0357 - val_accuracy: 0.9724 - val_loss: 0.0862\n",
            "Epoch 81/100\n",
            "\u001b[1m64/64\u001b[0m \u001b[32m━━━━━━━━━━━━━━━━━━━━\u001b[0m\u001b[37m\u001b[0m \u001b[1m0s\u001b[0m 3ms/step - accuracy: 0.9837 - loss: 0.0422 - val_accuracy: 0.9704 - val_loss: 0.0931\n",
            "Epoch 82/100\n",
            "\u001b[1m64/64\u001b[0m \u001b[32m━━━━━━━━━━━━━━━━━━━━\u001b[0m\u001b[37m\u001b[0m \u001b[1m0s\u001b[0m 4ms/step - accuracy: 0.9903 - loss: 0.0277 - val_accuracy: 0.9704 - val_loss: 0.0973\n",
            "Epoch 83/100\n",
            "\u001b[1m64/64\u001b[0m \u001b[32m━━━━━━━━━━━━━━━━━━━━\u001b[0m\u001b[37m\u001b[0m \u001b[1m0s\u001b[0m 3ms/step - accuracy: 0.9905 - loss: 0.0289 - val_accuracy: 0.9704 - val_loss: 0.0865\n",
            "Epoch 84/100\n",
            "\u001b[1m64/64\u001b[0m \u001b[32m━━━━━━━━━━━━━━━━━━━━\u001b[0m\u001b[37m\u001b[0m \u001b[1m0s\u001b[0m 4ms/step - accuracy: 0.9847 - loss: 0.0378 - val_accuracy: 0.9704 - val_loss: 0.0864\n",
            "Epoch 85/100\n",
            "\u001b[1m64/64\u001b[0m \u001b[32m━━━━━━━━━━━━━━━━━━━━\u001b[0m\u001b[37m\u001b[0m \u001b[1m0s\u001b[0m 4ms/step - accuracy: 0.9908 - loss: 0.0212 - val_accuracy: 0.9684 - val_loss: 0.0891\n",
            "Epoch 86/100\n",
            "\u001b[1m64/64\u001b[0m \u001b[32m━━━━━━━━━━━━━━━━━━━━\u001b[0m\u001b[37m\u001b[0m \u001b[1m0s\u001b[0m 3ms/step - accuracy: 0.9888 - loss: 0.0266 - val_accuracy: 0.9724 - val_loss: 0.0895\n",
            "Epoch 87/100\n",
            "\u001b[1m64/64\u001b[0m \u001b[32m━━━━━━━━━━━━━━━━━━━━\u001b[0m\u001b[37m\u001b[0m \u001b[1m0s\u001b[0m 4ms/step - accuracy: 0.9827 - loss: 0.0382 - val_accuracy: 0.9704 - val_loss: 0.0910\n",
            "Epoch 88/100\n",
            "\u001b[1m64/64\u001b[0m \u001b[32m━━━━━━━━━━━━━━━━━━━━\u001b[0m\u001b[37m\u001b[0m \u001b[1m0s\u001b[0m 5ms/step - accuracy: 0.9871 - loss: 0.0321 - val_accuracy: 0.9704 - val_loss: 0.0873\n",
            "Epoch 89/100\n",
            "\u001b[1m64/64\u001b[0m \u001b[32m━━━━━━━━━━━━━━━━━━━━\u001b[0m\u001b[37m\u001b[0m \u001b[1m0s\u001b[0m 6ms/step - accuracy: 0.9838 - loss: 0.0520 - val_accuracy: 0.9704 - val_loss: 0.0856\n",
            "Epoch 90/100\n",
            "\u001b[1m64/64\u001b[0m \u001b[32m━━━━━━━━━━━━━━━━━━━━\u001b[0m\u001b[37m\u001b[0m \u001b[1m0s\u001b[0m 7ms/step - accuracy: 0.9872 - loss: 0.0296 - val_accuracy: 0.9724 - val_loss: 0.0888\n",
            "Epoch 91/100\n",
            "\u001b[1m64/64\u001b[0m \u001b[32m━━━━━━━━━━━━━━━━━━━━\u001b[0m\u001b[37m\u001b[0m \u001b[1m0s\u001b[0m 5ms/step - accuracy: 0.9917 - loss: 0.0247 - val_accuracy: 0.9704 - val_loss: 0.0891\n",
            "Epoch 92/100\n",
            "\u001b[1m64/64\u001b[0m \u001b[32m━━━━━━━━━━━━━━━━━━━━\u001b[0m\u001b[37m\u001b[0m \u001b[1m0s\u001b[0m 6ms/step - accuracy: 0.9896 - loss: 0.0257 - val_accuracy: 0.9724 - val_loss: 0.0925\n",
            "Epoch 93/100\n",
            "\u001b[1m64/64\u001b[0m \u001b[32m━━━━━━━━━━━━━━━━━━━━\u001b[0m\u001b[37m\u001b[0m \u001b[1m0s\u001b[0m 4ms/step - accuracy: 0.9927 - loss: 0.0227 - val_accuracy: 0.9684 - val_loss: 0.0974\n",
            "Epoch 94/100\n",
            "\u001b[1m64/64\u001b[0m \u001b[32m━━━━━━━━━━━━━━━━━━━━\u001b[0m\u001b[37m\u001b[0m \u001b[1m0s\u001b[0m 4ms/step - accuracy: 0.9899 - loss: 0.0255 - val_accuracy: 0.9704 - val_loss: 0.0966\n",
            "Epoch 95/100\n",
            "\u001b[1m64/64\u001b[0m \u001b[32m━━━━━━━━━━━━━━━━━━━━\u001b[0m\u001b[37m\u001b[0m \u001b[1m0s\u001b[0m 4ms/step - accuracy: 0.9842 - loss: 0.0334 - val_accuracy: 0.9704 - val_loss: 0.0952\n",
            "Epoch 96/100\n",
            "\u001b[1m64/64\u001b[0m \u001b[32m━━━━━━━━━━━━━━━━━━━━\u001b[0m\u001b[37m\u001b[0m \u001b[1m0s\u001b[0m 4ms/step - accuracy: 0.9888 - loss: 0.0234 - val_accuracy: 0.9704 - val_loss: 0.0956\n",
            "Epoch 97/100\n",
            "\u001b[1m64/64\u001b[0m \u001b[32m━━━━━━━━━━━━━━━━━━━━\u001b[0m\u001b[37m\u001b[0m \u001b[1m0s\u001b[0m 3ms/step - accuracy: 0.9865 - loss: 0.0314 - val_accuracy: 0.9704 - val_loss: 0.0957\n",
            "Epoch 98/100\n",
            "\u001b[1m64/64\u001b[0m \u001b[32m━━━━━━━━━━━━━━━━━━━━\u001b[0m\u001b[37m\u001b[0m \u001b[1m0s\u001b[0m 3ms/step - accuracy: 0.9860 - loss: 0.0346 - val_accuracy: 0.9724 - val_loss: 0.0975\n",
            "Epoch 99/100\n",
            "\u001b[1m64/64\u001b[0m \u001b[32m━━━━━━━━━━━━━━━━━━━━\u001b[0m\u001b[37m\u001b[0m \u001b[1m0s\u001b[0m 4ms/step - accuracy: 0.9867 - loss: 0.0282 - val_accuracy: 0.9704 - val_loss: 0.0949\n",
            "Epoch 100/100\n",
            "\u001b[1m64/64\u001b[0m \u001b[32m━━━━━━━━━━━━━━━━━━━━\u001b[0m\u001b[37m\u001b[0m \u001b[1m0s\u001b[0m 4ms/step - accuracy: 0.9869 - loss: 0.0423 - val_accuracy: 0.9724 - val_loss: 0.0947\n",
            "\n",
            "Test Loss: 0.0602\n",
            "Test Accuracy: 0.9842\n"
          ]
        },
        {
          "output_type": "display_data",
          "data": {
            "text/plain": [
              "<Figure size 1200x400 with 2 Axes>"
            ],
            "image/png": "[encoded data removed]"
          },
          "metadata": {}
        }
      ]
    },
    {
      "cell_type": "code",
      "source": [
        "\n",
        "\n",
        "# Make predictions on the test set\n",
        "y_pred_proba = model.predict(X_test)\n",
        "\n",
        "# Convert probabilities to binary predictions (0 or 1)\n",
        "# Threshold is typically 0.5 for binary classification\n",
        "y_pred = (y_pred_proba > 0.5).astype(\"int32\")\n",
        "\n",
        "# Display the first few actual and predicted values\n",
        "print(\"\\nFirst 10 Actual vs. Predicted values:\")\n",
        "for i in range(10):\n",
        "    print(f\"Actual: {y_test.iloc[i]}, Predicted: {y_pred[i][0]}\")"
      ],
      "metadata": {
        "colab": {
          "base_uri": "https://localhost:8080/"
        },
        "id": "kbvZ9uLLAN3B",
        "outputId": "9d2ed3cf-c2f6-46ad-c0a3-e3fb804aa923"
      },
      "execution_count": null,
      "outputs": [
        {
          "output_type": "stream",
          "name": "stdout",
          "text": [
            "\u001b[1m20/20\u001b[0m \u001b[32m━━━━━━━━━━━━━━━━━━━━\u001b[0m\u001b[37m\u001b[0m \u001b[1m0s\u001b[0m 9ms/step\n",
            "\n",
            "First 10 Actual vs. Predicted values:\n",
            "Actual: 0, Predicted: 0\n",
            "Actual: 0, Predicted: 0\n",
            "Actual: 0, Predicted: 0\n",
            "Actual: 1, Predicted: 1\n",
            "Actual: 0, Predicted: 0\n",
            "Actual: 1, Predicted: 1\n",
            "Actual: 1, Predicted: 1\n",
            "Actual: 0, Predicted: 0\n",
            "Actual: 0, Predicted: 0\n",
            "Actual: 1, Predicted: 1\n"
          ]
        }
      ]
    },
    {
      "cell_type": "code",
      "source": [
        "\n",
        "\n",
        "# Function to make a prediction on a single voice sample\n",
        "def predict_single_voice(model, scaler, label_encoder, voice_features):\n",
        "    # Ensure the input features are a numpy array and have the correct shape (1, n_features)\n",
        "    voice_features = np.array(voice_features).reshape(1, -1)\n",
        "\n",
        "    # Scale the input features using the same scaler used for training\n",
        "    scaled_features = scaler.transform(voice_features)\n",
        "\n",
        "    # Make a prediction using the trained model\n",
        "    prediction_proba = model.predict(scaled_features)\n",
        "\n",
        "    # Get the binary prediction (0 or 1)\n",
        "    prediction = (prediction_proba > 0.5).astype(\"int32\")[0][0]\n",
        "\n",
        "    # Decode the numerical prediction back to the original label ('male' or 'female')\n",
        "    predicted_label = label_encoder.inverse_transform([prediction])[0]\n",
        "\n",
        "    # Return the predicted label and the probability\n",
        "    return predicted_label, prediction_proba[0][0]\n",
        "\n",
        "\n",
        "sample_index = 100\n",
        "\n",
        "# Get the features of the sample from the original scaled test set\n",
        "sample_features_scaled = X_test.iloc[sample_index]\n",
        "\n",
        "# Get the true label for this sample from the test set\n",
        "true_label_encoded = y_test.iloc[sample_index]\n",
        "\n",
        "# Decode the true label back to the original label ('male' or 'female')\n",
        "true_label = label_encoder.inverse_transform([true_label_encoded])[0]\n",
        "\n",
        "print(f\"\\nPredicting for sample at index {sample_index}...\")\n",
        "print(f\"True Label: {true_label}\")\n",
        "\n",
        "\n",
        "# To use the function as defined, let's get the original unscaled features for the sample\n",
        "sample_features_original = X.iloc[y_test.index[sample_index]]\n",
        "\n",
        "# Make prediction\n",
        "predicted_label, predicted_proba = predict_single_voice(model, scaler, label_encoder, sample_features_original)\n",
        "\n",
        "print(f\"Predicted Label: {predicted_label}\")\n",
        "print(f\"Prediction Probability (for the positive class, e.g., female): {predicted_proba:.4f}\")\n",
        "\n",
        "\n"
      ],
      "metadata": {
        "colab": {
          "base_uri": "https://localhost:8080/"
        },
        "id": "ZLU8oPnJBLgz",
        "outputId": "75242409-ee85-435d-9d7d-48003c55b5bd"
      },
      "execution_count": null,
      "outputs": [
        {
          "output_type": "stream",
          "name": "stdout",
          "text": [
            "\n",
            "Predicting for sample at index 100...\n",
            "True Label: male\n",
            "\u001b[1m1/1\u001b[0m \u001b[32m━━━━━━━━━━━━━━━━━━━━\u001b[0m\u001b[37m\u001b[0m \u001b[1m0s\u001b[0m 147ms/step\n",
            "Predicted Label: male\n",
            "Prediction Probability (for the positive class, e.g., female): 1.0000\n"
          ]
        },
        {
          "output_type": "stream",
          "name": "stderr",
          "text": [
            "/usr/local/lib/python3.11/dist-packages/sklearn/utils/validation.py:2739: UserWarning: X does not have valid feature names, but StandardScaler was fitted with feature names\n",
            "  warnings.warn(\n"
          ]
        }
      ]
    }
  ]
}